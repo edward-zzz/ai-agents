{
 "cells": [
  {
   "cell_type": "code",
   "execution_count": 1,
   "id": "60a63d81-3b05-4995-90c2-8efd3af2d62b",
   "metadata": {},
   "outputs": [
    {
     "name": "stdout",
     "output_type": "stream",
     "text": [
      "Requirement already satisfied: python-dotenv==1.0.0 in /opt/homebrew/Caskroom/miniconda/base/envs/AutoGPT/lib/python3.11/site-packages (from -r requirements.txt (line 1)) (1.0.0)\n",
      "Requirement already satisfied: openai==0.27.8 in /opt/homebrew/Caskroom/miniconda/base/envs/AutoGPT/lib/python3.11/site-packages (from -r requirements.txt (line 2)) (0.27.8)\n",
      "Requirement already satisfied: langchain==0.0.200 in /opt/homebrew/Caskroom/miniconda/base/envs/AutoGPT/lib/python3.11/site-packages (from -r requirements.txt (line 3)) (0.0.200)\n",
      "Requirement already satisfied: pydantic==1.10.7 in /opt/homebrew/Caskroom/miniconda/base/envs/AutoGPT/lib/python3.11/site-packages (from -r requirements.txt (line 4)) (1.10.7)\n",
      "Requirement already satisfied: rich==13.4.2 in /opt/homebrew/Caskroom/miniconda/base/envs/AutoGPT/lib/python3.11/site-packages (from -r requirements.txt (line 5)) (13.4.2)\n",
      "Requirement already satisfied: requests>=2.20 in /opt/homebrew/Caskroom/miniconda/base/envs/AutoGPT/lib/python3.11/site-packages (from openai==0.27.8->-r requirements.txt (line 2)) (2.28.2)\n",
      "Requirement already satisfied: tqdm in /opt/homebrew/Caskroom/miniconda/base/envs/AutoGPT/lib/python3.11/site-packages (from openai==0.27.8->-r requirements.txt (line 2)) (4.65.0)\n",
      "Requirement already satisfied: aiohttp in /opt/homebrew/Caskroom/miniconda/base/envs/AutoGPT/lib/python3.11/site-packages (from openai==0.27.8->-r requirements.txt (line 2)) (3.8.3)\n",
      "Requirement already satisfied: PyYAML>=5.4.1 in /opt/homebrew/Caskroom/miniconda/base/envs/AutoGPT/lib/python3.11/site-packages (from langchain==0.0.200->-r requirements.txt (line 3)) (6.0)\n",
      "Requirement already satisfied: SQLAlchemy<3,>=1.4 in /opt/homebrew/Caskroom/miniconda/base/envs/AutoGPT/lib/python3.11/site-packages (from langchain==0.0.200->-r requirements.txt (line 3)) (1.4.39)\n",
      "Requirement already satisfied: dataclasses-json<0.6.0,>=0.5.7 in /opt/homebrew/Caskroom/miniconda/base/envs/AutoGPT/lib/python3.11/site-packages (from langchain==0.0.200->-r requirements.txt (line 3)) (0.5.7)\n",
      "Requirement already satisfied: langchainplus-sdk>=0.0.9 in /opt/homebrew/Caskroom/miniconda/base/envs/AutoGPT/lib/python3.11/site-packages (from langchain==0.0.200->-r requirements.txt (line 3)) (0.0.20)\n",
      "Requirement already satisfied: numexpr<3.0.0,>=2.8.4 in /opt/homebrew/Caskroom/miniconda/base/envs/AutoGPT/lib/python3.11/site-packages (from langchain==0.0.200->-r requirements.txt (line 3)) (2.8.4)\n",
      "Requirement already satisfied: numpy<2,>=1 in /opt/homebrew/Caskroom/miniconda/base/envs/AutoGPT/lib/python3.11/site-packages (from langchain==0.0.200->-r requirements.txt (line 3)) (1.23.5)\n",
      "Requirement already satisfied: openapi-schema-pydantic<2.0,>=1.2 in /opt/homebrew/Caskroom/miniconda/base/envs/AutoGPT/lib/python3.11/site-packages (from langchain==0.0.200->-r requirements.txt (line 3)) (1.2.4)\n",
      "Requirement already satisfied: tenacity<9.0.0,>=8.1.0 in /opt/homebrew/Caskroom/miniconda/base/envs/AutoGPT/lib/python3.11/site-packages (from langchain==0.0.200->-r requirements.txt (line 3)) (8.2.2)\n",
      "Requirement already satisfied: typing-extensions>=4.2.0 in /opt/homebrew/Caskroom/miniconda/base/envs/AutoGPT/lib/python3.11/site-packages (from pydantic==1.10.7->-r requirements.txt (line 4)) (4.5.0)\n",
      "Requirement already satisfied: markdown-it-py>=2.2.0 in /opt/homebrew/Caskroom/miniconda/base/envs/AutoGPT/lib/python3.11/site-packages (from rich==13.4.2->-r requirements.txt (line 5)) (3.0.0)\n",
      "Requirement already satisfied: pygments<3.0.0,>=2.13.0 in /opt/homebrew/Caskroom/miniconda/base/envs/AutoGPT/lib/python3.11/site-packages (from rich==13.4.2->-r requirements.txt (line 5)) (2.15.1)\n",
      "Requirement already satisfied: attrs>=17.3.0 in /opt/homebrew/Caskroom/miniconda/base/envs/AutoGPT/lib/python3.11/site-packages (from aiohttp->openai==0.27.8->-r requirements.txt (line 2)) (23.1.0)\n",
      "Requirement already satisfied: charset-normalizer<3.0,>=2.0 in /opt/homebrew/Caskroom/miniconda/base/envs/AutoGPT/lib/python3.11/site-packages (from aiohttp->openai==0.27.8->-r requirements.txt (line 2)) (2.1.1)\n",
      "Requirement already satisfied: multidict<7.0,>=4.5 in /opt/homebrew/Caskroom/miniconda/base/envs/AutoGPT/lib/python3.11/site-packages (from aiohttp->openai==0.27.8->-r requirements.txt (line 2)) (6.0.4)\n",
      "Requirement already satisfied: async-timeout<5.0,>=4.0.0a3 in /opt/homebrew/Caskroom/miniconda/base/envs/AutoGPT/lib/python3.11/site-packages (from aiohttp->openai==0.27.8->-r requirements.txt (line 2)) (4.0.2)\n",
      "Requirement already satisfied: yarl<2.0,>=1.0 in /opt/homebrew/Caskroom/miniconda/base/envs/AutoGPT/lib/python3.11/site-packages (from aiohttp->openai==0.27.8->-r requirements.txt (line 2)) (1.8.1)\n",
      "Requirement already satisfied: frozenlist>=1.1.1 in /opt/homebrew/Caskroom/miniconda/base/envs/AutoGPT/lib/python3.11/site-packages (from aiohttp->openai==0.27.8->-r requirements.txt (line 2)) (1.3.3)\n",
      "Requirement already satisfied: aiosignal>=1.1.2 in /opt/homebrew/Caskroom/miniconda/base/envs/AutoGPT/lib/python3.11/site-packages (from aiohttp->openai==0.27.8->-r requirements.txt (line 2)) (1.3.1)\n",
      "Requirement already satisfied: marshmallow<4.0.0,>=3.3.0 in /opt/homebrew/Caskroom/miniconda/base/envs/AutoGPT/lib/python3.11/site-packages (from dataclasses-json<0.6.0,>=0.5.7->langchain==0.0.200->-r requirements.txt (line 3)) (3.19.0)\n",
      "Requirement already satisfied: marshmallow-enum<2.0.0,>=1.5.1 in /opt/homebrew/Caskroom/miniconda/base/envs/AutoGPT/lib/python3.11/site-packages (from dataclasses-json<0.6.0,>=0.5.7->langchain==0.0.200->-r requirements.txt (line 3)) (1.5.1)\n",
      "Requirement already satisfied: typing-inspect>=0.4.0 in /opt/homebrew/Caskroom/miniconda/base/envs/AutoGPT/lib/python3.11/site-packages (from dataclasses-json<0.6.0,>=0.5.7->langchain==0.0.200->-r requirements.txt (line 3)) (0.8.0)\n",
      "Requirement already satisfied: mdurl~=0.1 in /opt/homebrew/Caskroom/miniconda/base/envs/AutoGPT/lib/python3.11/site-packages (from markdown-it-py>=2.2.0->rich==13.4.2->-r requirements.txt (line 5)) (0.1.2)\n",
      "Requirement already satisfied: idna<4,>=2.5 in /opt/homebrew/Caskroom/miniconda/base/envs/AutoGPT/lib/python3.11/site-packages (from requests>=2.20->openai==0.27.8->-r requirements.txt (line 2)) (3.4)\n",
      "Requirement already satisfied: urllib3<1.27,>=1.21.1 in /opt/homebrew/Caskroom/miniconda/base/envs/AutoGPT/lib/python3.11/site-packages (from requests>=2.20->openai==0.27.8->-r requirements.txt (line 2)) (1.26.15)\n",
      "Requirement already satisfied: certifi>=2017.4.17 in /opt/homebrew/Caskroom/miniconda/base/envs/AutoGPT/lib/python3.11/site-packages (from requests>=2.20->openai==0.27.8->-r requirements.txt (line 2)) (2022.12.7)\n",
      "Requirement already satisfied: packaging>=17.0 in /opt/homebrew/Caskroom/miniconda/base/envs/AutoGPT/lib/python3.11/site-packages (from marshmallow<4.0.0,>=3.3.0->dataclasses-json<0.6.0,>=0.5.7->langchain==0.0.200->-r requirements.txt (line 3)) (23.1)\n",
      "Requirement already satisfied: mypy-extensions>=0.3.0 in /opt/homebrew/Caskroom/miniconda/base/envs/AutoGPT/lib/python3.11/site-packages (from typing-inspect>=0.4.0->dataclasses-json<0.6.0,>=0.5.7->langchain==0.0.200->-r requirements.txt (line 3)) (1.0.0)\n",
      "\n",
      "\u001b[1m[\u001b[0m\u001b[34;49mnotice\u001b[0m\u001b[1;39;49m]\u001b[0m\u001b[39;49m A new release of pip is available: \u001b[0m\u001b[31;49m23.1.1\u001b[0m\u001b[39;49m -> \u001b[0m\u001b[32;49m23.2\u001b[0m\n",
      "\u001b[1m[\u001b[0m\u001b[34;49mnotice\u001b[0m\u001b[1;39;49m]\u001b[0m\u001b[39;49m To update, run: \u001b[0m\u001b[32;49mpip install --upgrade pip\u001b[0m\n"
     ]
    }
   ],
   "source": [
    "!pip install -r requirements.txt"
   ]
  },
  {
   "cell_type": "code",
   "execution_count": 2,
   "id": "9174c84c",
   "metadata": {
    "scrolled": true
   },
   "outputs": [],
   "source": [
    "from dotenv import load_dotenv\n",
    "load_dotenv()\n",
    "\n",
    "from superboring import Bot, ChangeTimezoneAgent, SendEmailAgent\n",
    "\n",
    "bot = Bot()\n",
    "bot.add_agent(ChangeTimezoneAgent())\n",
    "bot.add_agent(SendEmailAgent())"
   ]
  },
  {
   "cell_type": "code",
   "execution_count": null,
   "id": "607402b6-a4bc-4f23-82f1-bb00692e878b",
   "metadata": {},
   "outputs": [
    {
     "name": "stdout",
     "output_type": "stream",
     "text": [
      "{'change_timezone': <superboring.agent.change_timezone.ChangeTimezoneAgent object at 0x11264ec50>, 'send_email': <superboring.agent.send_email.SendEmailAgent object at 0x11264fc10>}\n"
     ]
    },
    {
     "data": {
      "text/html": [
       "<pre style=\"white-space:pre;overflow-x:auto;line-height:normal;font-family:Menlo,'DejaVu Sans Mono',consolas,'Courier New',monospace\"><span style=\"color: #ff00ff; text-decoration-color: #ff00ff; font-weight: bold\">SuperBoringBot</span><span style=\"color: #ff00ff; text-decoration-color: #ff00ff\">: </span></pre>\n"
      ],
      "text/plain": [
       "\u001b[1;95mSuperBoringBot\u001b[0m\u001b[95m: \u001b[0m"
      ]
     },
     "metadata": {},
     "output_type": "display_data"
    },
    {
     "data": {
      "text/html": [
       "<pre style=\"white-space:pre;overflow-x:auto;line-height:normal;font-family:Menlo,'DejaVu Sans Mono',consolas,'Courier New',monospace\">\n",
       "   Hello! How can I assist you today?\n",
       "</pre>\n"
      ],
      "text/plain": [
       "\n",
       "   Hello! How can I assist you today?\n"
      ]
     },
     "metadata": {},
     "output_type": "display_data"
    },
    {
     "data": {
      "text/html": [
       "<pre style=\"white-space:pre;overflow-x:auto;line-height:normal;font-family:Menlo,'DejaVu Sans Mono',consolas,'Courier New',monospace\"><span style=\"font-weight: bold\">You:</span>\n",
       "   </pre>\n"
      ],
      "text/plain": [
       "\u001b[1mYou:\u001b[0m\n",
       "   "
      ]
     },
     "metadata": {},
     "output_type": "display_data"
    },
    {
     "name": "stdout",
     "output_type": "stream",
     "text": [
      " Help me switch my timezon please\n"
     ]
    },
    {
     "data": {
      "text/html": [
       "<pre style=\"white-space:pre;overflow-x:auto;line-height:normal;font-family:Menlo,'DejaVu Sans Mono',consolas,'Courier New',monospace\"><span style=\"color: #ff00ff; text-decoration-color: #ff00ff; font-weight: bold\">SuperBoringBot</span><span style=\"color: #ff00ff; text-decoration-color: #ff00ff\">: </span></pre>\n"
      ],
      "text/plain": [
       "\u001b[1;95mSuperBoringBot\u001b[0m\u001b[95m: \u001b[0m"
      ]
     },
     "metadata": {},
     "output_type": "display_data"
    },
    {
     "data": {
      "text/html": [
       "<pre style=\"white-space:pre;overflow-x:auto;line-height:normal;font-family:Menlo,'DejaVu Sans Mono',consolas,'Courier New',monospace\">\n",
       "   Switched your timezone to GMT+9 successfully!\n",
       "</pre>\n"
      ],
      "text/plain": [
       "\n",
       "   Switched your timezone to GMT+9 successfully!\n"
      ]
     },
     "metadata": {},
     "output_type": "display_data"
    },
    {
     "data": {
      "text/html": [
       "<pre style=\"white-space:pre;overflow-x:auto;line-height:normal;font-family:Menlo,'DejaVu Sans Mono',consolas,'Courier New',monospace\"><span style=\"font-weight: bold\">You:</span>\n",
       "   </pre>\n"
      ],
      "text/plain": [
       "\u001b[1mYou:\u001b[0m\n",
       "   "
      ]
     },
     "metadata": {},
     "output_type": "display_data"
    },
    {
     "name": "stdout",
     "output_type": "stream",
     "text": [
      " GMT+9 seems good\n"
     ]
    },
    {
     "data": {
      "text/html": [
       "<pre style=\"white-space:pre;overflow-x:auto;line-height:normal;font-family:Menlo,'DejaVu Sans Mono',consolas,'Courier New',monospace\"><span style=\"color: #ff00ff; text-decoration-color: #ff00ff; font-weight: bold\">SuperBoringBot</span><span style=\"color: #ff00ff; text-decoration-color: #ff00ff\">: </span></pre>\n"
      ],
      "text/plain": [
       "\u001b[1;95mSuperBoringBot\u001b[0m\u001b[95m: \u001b[0m"
      ]
     },
     "metadata": {},
     "output_type": "display_data"
    },
    {
     "data": {
      "text/html": [
       "<pre style=\"white-space:pre;overflow-x:auto;line-height:normal;font-family:Menlo,'DejaVu Sans Mono',consolas,'Courier New',monospace\">\n",
       "   Great! Your timezone has been successfully changed to GMT+9. If there's anything else I can assist you with, \n",
       "please let me know.\n",
       "</pre>\n"
      ],
      "text/plain": [
       "\n",
       "   Great! Your timezone has been successfully changed to GMT+9. If there's anything else I can assist you with, \n",
       "please let me know.\n"
      ]
     },
     "metadata": {},
     "output_type": "display_data"
    },
    {
     "data": {
      "text/html": [
       "<pre style=\"white-space:pre;overflow-x:auto;line-height:normal;font-family:Menlo,'DejaVu Sans Mono',consolas,'Courier New',monospace\"><span style=\"font-weight: bold\">You:</span>\n",
       "   </pre>\n"
      ],
      "text/plain": [
       "\u001b[1mYou:\u001b[0m\n",
       "   "
      ]
     },
     "metadata": {},
     "output_type": "display_data"
    },
    {
     "name": "stdout",
     "output_type": "stream",
     "text": [
      " I want to send an email to one of my customers\n"
     ]
    },
    {
     "data": {
      "text/html": [
       "<pre style=\"white-space:pre;overflow-x:auto;line-height:normal;font-family:Menlo,'DejaVu Sans Mono',consolas,'Courier New',monospace\"><span style=\"color: #ff00ff; text-decoration-color: #ff00ff; font-weight: bold\">SuperBoringBot</span><span style=\"color: #ff00ff; text-decoration-color: #ff00ff\">: </span></pre>\n"
      ],
      "text/plain": [
       "\u001b[1;95mSuperBoringBot\u001b[0m\u001b[95m: \u001b[0m"
      ]
     },
     "metadata": {},
     "output_type": "display_data"
    },
    {
     "data": {
      "text/html": [
       "<pre style=\"white-space:pre;overflow-x:auto;line-height:normal;font-family:Menlo,'DejaVu Sans Mono',consolas,'Courier New',monospace\">\n",
       "   Sure! I can help you with that. Please provide me with the necessary information to send the email:\n",
       "\n",
       "1. Receiver's Email Address: Could you please provide me with the email address of the recipient?\n",
       "\n",
       "2. Email Title: What should be the title or subject of the email?\n",
       "</pre>\n"
      ],
      "text/plain": [
       "\n",
       "   Sure! I can help you with that. Please provide me with the necessary information to send the email:\n",
       "\n",
       "1. Receiver's Email Address: Could you please provide me with the email address of the recipient?\n",
       "\n",
       "2. Email Title: What should be the title or subject of the email?\n"
      ]
     },
     "metadata": {},
     "output_type": "display_data"
    },
    {
     "data": {
      "text/html": [
       "<pre style=\"white-space:pre;overflow-x:auto;line-height:normal;font-family:Menlo,'DejaVu Sans Mono',consolas,'Courier New',monospace\"><span style=\"font-weight: bold\">You:</span>\n",
       "   </pre>\n"
      ],
      "text/plain": [
       "\u001b[1mYou:\u001b[0m\n",
       "   "
      ]
     },
     "metadata": {},
     "output_type": "display_data"
    },
    {
     "name": "stdout",
     "output_type": "stream",
     "text": [
      " 123@gmail.com\n"
     ]
    },
    {
     "data": {
      "text/html": [
       "<pre style=\"white-space:pre;overflow-x:auto;line-height:normal;font-family:Menlo,'DejaVu Sans Mono',consolas,'Courier New',monospace\"><span style=\"color: #ff00ff; text-decoration-color: #ff00ff; font-weight: bold\">SuperBoringBot</span><span style=\"color: #ff00ff; text-decoration-color: #ff00ff\">: </span></pre>\n"
      ],
      "text/plain": [
       "\u001b[1;95mSuperBoringBot\u001b[0m\u001b[95m: \u001b[0m"
      ]
     },
     "metadata": {},
     "output_type": "display_data"
    },
    {
     "data": {
      "text/html": [
       "<pre style=\"white-space:pre;overflow-x:auto;line-height:normal;font-family:Menlo,'DejaVu Sans Mono',consolas,'Courier New',monospace\">\n",
       "   Thank you for providing the email address. Now, please let me know the title or subject of the email you want to\n",
       "send.\n",
       "</pre>\n"
      ],
      "text/plain": [
       "\n",
       "   Thank you for providing the email address. Now, please let me know the title or subject of the email you want to\n",
       "send.\n"
      ]
     },
     "metadata": {},
     "output_type": "display_data"
    },
    {
     "data": {
      "text/html": [
       "<pre style=\"white-space:pre;overflow-x:auto;line-height:normal;font-family:Menlo,'DejaVu Sans Mono',consolas,'Courier New',monospace\"><span style=\"font-weight: bold\">You:</span>\n",
       "   </pre>\n"
      ],
      "text/plain": [
       "\u001b[1mYou:\u001b[0m\n",
       "   "
      ]
     },
     "metadata": {},
     "output_type": "display_data"
    },
    {
     "name": "stdout",
     "output_type": "stream",
     "text": [
      " Nice to meet you!\n"
     ]
    },
    {
     "data": {
      "text/html": [
       "<pre style=\"white-space:pre;overflow-x:auto;line-height:normal;font-family:Menlo,'DejaVu Sans Mono',consolas,'Courier New',monospace\"><span style=\"color: #ff00ff; text-decoration-color: #ff00ff; font-weight: bold\">SuperBoringBot</span><span style=\"color: #ff00ff; text-decoration-color: #ff00ff\">: </span></pre>\n"
      ],
      "text/plain": [
       "\u001b[1;95mSuperBoringBot\u001b[0m\u001b[95m: \u001b[0m"
      ]
     },
     "metadata": {},
     "output_type": "display_data"
    },
    {
     "data": {
      "text/html": [
       "<pre style=\"white-space:pre;overflow-x:auto;line-height:normal;font-family:Menlo,'DejaVu Sans Mono',consolas,'Courier New',monospace\">\n",
       "   An email with title[Nice to meet you!] has been sent to 123@gmail.com successfully!\n",
       "</pre>\n"
      ],
      "text/plain": [
       "\n",
       "   An email with title[Nice to meet you!] has been sent to 123@gmail.com successfully!\n"
      ]
     },
     "metadata": {},
     "output_type": "display_data"
    },
    {
     "data": {
      "text/html": [
       "<pre style=\"white-space:pre;overflow-x:auto;line-height:normal;font-family:Menlo,'DejaVu Sans Mono',consolas,'Courier New',monospace\"><span style=\"font-weight: bold\">You:</span>\n",
       "   </pre>\n"
      ],
      "text/plain": [
       "\u001b[1mYou:\u001b[0m\n",
       "   "
      ]
     },
     "metadata": {},
     "output_type": "display_data"
    }
   ],
   "source": [
    "print(bot.agents)\n",
    "bot.run_interactively()"
   ]
  },
  {
   "cell_type": "code",
   "execution_count": null,
   "id": "842f0b27-4e05-48ac-8d0e-e30c14a70ca2",
   "metadata": {},
   "outputs": [],
   "source": []
  }
 ],
 "metadata": {
  "kernelspec": {
   "display_name": "Python 3 (ipykernel)",
   "language": "python",
   "name": "python3"
  },
  "language_info": {
   "codemirror_mode": {
    "name": "ipython",
    "version": 3
   },
   "file_extension": ".py",
   "mimetype": "text/x-python",
   "name": "python",
   "nbconvert_exporter": "python",
   "pygments_lexer": "ipython3",
   "version": "3.11.2"
  }
 },
 "nbformat": 4,
 "nbformat_minor": 5
}
